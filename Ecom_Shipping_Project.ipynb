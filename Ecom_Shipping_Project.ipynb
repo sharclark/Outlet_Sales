{
  "nbformat": 4,
  "nbformat_minor": 0,
  "metadata": {
    "colab": {
      "provenance": [],
      "authorship_tag": "ABX9TyOvY2wo7opVJJcDu2Uvd8Uu",
      "include_colab_link": true
    },
    "kernelspec": {
      "name": "python3",
      "display_name": "Python 3"
    },
    "language_info": {
      "name": "python"
    }
  },
  "cells": [
    {
      "cell_type": "markdown",
      "metadata": {
        "id": "view-in-github",
        "colab_type": "text"
      },
      "source": [
        "<a href=\"https://colab.research.google.com/github/sharclark/Project1_Dojo/blob/main/Ecom_Shipping_Project.ipynb\" target=\"_parent\"><img src=\"https://colab.research.google.com/assets/colab-badge.svg\" alt=\"Open In Colab\"/></a>"
      ]
    },
    {
      "cell_type": "markdown",
      "source": [
        "Name: Shar Clark\n",
        "\n",
        "Date: 3/14/23\n",
        "\n",
        "Title: Ecom Shipping Analysis\n",
        "\n",
        "Description: Predicting on time shipping within ecommerce"
      ],
      "metadata": {
        "id": "1a2dbH_r2raI"
      }
    },
    {
      "cell_type": "markdown",
      "source": [
        "# Data Cleaning"
      ],
      "metadata": {
        "id": "QLsGvpNoMIIB"
      }
    },
    {
      "cell_type": "code",
      "source": [
        "import pandas as pd\n",
        "import numpy as np\n",
        "import seaborn as sns\n",
        "import matplotlib.pyplot as plt"
      ],
      "metadata": {
        "id": "TjKbjAoL2-bd"
      },
      "execution_count": 17,
      "outputs": []
    },
    {
      "cell_type": "code",
      "source": [
        "df = pd.read_csv('/content/Train.csv')\n",
        "df.head()\n",
        "# source: https://www.kaggle.com/code/santhoshtsk/ecommerce-shipping-eda-prediction"
      ],
      "metadata": {
        "colab": {
          "base_uri": "https://localhost:8080/",
          "height": 270
        },
        "id": "MkSldx3e245L",
        "outputId": "6970ca71-559b-403c-a171-ddf7ad2d7f4f"
      },
      "execution_count": 2,
      "outputs": [
        {
          "output_type": "execute_result",
          "data": {
            "text/plain": [
              "   ID Warehouse_block Mode_of_Shipment  Customer_care_calls  Customer_rating  \\\n",
              "0   1               D           Flight                    4                2   \n",
              "1   2               F           Flight                    4                5   \n",
              "2   3               A           Flight                    2                2   \n",
              "3   4               B           Flight                    3                3   \n",
              "4   5               C           Flight                    2                2   \n",
              "\n",
              "   Cost_of_the_Product  Prior_purchases Product_importance Gender  \\\n",
              "0                  177                3                low      F   \n",
              "1                  216                2                low      M   \n",
              "2                  183                4                low      M   \n",
              "3                  176                4             medium      M   \n",
              "4                  184                3             medium      F   \n",
              "\n",
              "   Discount_offered  Weight_in_gms  Reached.on.Time_Y.N  \n",
              "0                44           1233                    1  \n",
              "1                59           3088                    1  \n",
              "2                48           3374                    1  \n",
              "3                10           1177                    1  \n",
              "4                46           2484                    1  "
            ],
            "text/html": [
              "\n",
              "  <div id=\"df-51b68a21-8cba-4b00-88e0-26ab5a6e35f3\">\n",
              "    <div class=\"colab-df-container\">\n",
              "      <div>\n",
              "<style scoped>\n",
              "    .dataframe tbody tr th:only-of-type {\n",
              "        vertical-align: middle;\n",
              "    }\n",
              "\n",
              "    .dataframe tbody tr th {\n",
              "        vertical-align: top;\n",
              "    }\n",
              "\n",
              "    .dataframe thead th {\n",
              "        text-align: right;\n",
              "    }\n",
              "</style>\n",
              "<table border=\"1\" class=\"dataframe\">\n",
              "  <thead>\n",
              "    <tr style=\"text-align: right;\">\n",
              "      <th></th>\n",
              "      <th>ID</th>\n",
              "      <th>Warehouse_block</th>\n",
              "      <th>Mode_of_Shipment</th>\n",
              "      <th>Customer_care_calls</th>\n",
              "      <th>Customer_rating</th>\n",
              "      <th>Cost_of_the_Product</th>\n",
              "      <th>Prior_purchases</th>\n",
              "      <th>Product_importance</th>\n",
              "      <th>Gender</th>\n",
              "      <th>Discount_offered</th>\n",
              "      <th>Weight_in_gms</th>\n",
              "      <th>Reached.on.Time_Y.N</th>\n",
              "    </tr>\n",
              "  </thead>\n",
              "  <tbody>\n",
              "    <tr>\n",
              "      <th>0</th>\n",
              "      <td>1</td>\n",
              "      <td>D</td>\n",
              "      <td>Flight</td>\n",
              "      <td>4</td>\n",
              "      <td>2</td>\n",
              "      <td>177</td>\n",
              "      <td>3</td>\n",
              "      <td>low</td>\n",
              "      <td>F</td>\n",
              "      <td>44</td>\n",
              "      <td>1233</td>\n",
              "      <td>1</td>\n",
              "    </tr>\n",
              "    <tr>\n",
              "      <th>1</th>\n",
              "      <td>2</td>\n",
              "      <td>F</td>\n",
              "      <td>Flight</td>\n",
              "      <td>4</td>\n",
              "      <td>5</td>\n",
              "      <td>216</td>\n",
              "      <td>2</td>\n",
              "      <td>low</td>\n",
              "      <td>M</td>\n",
              "      <td>59</td>\n",
              "      <td>3088</td>\n",
              "      <td>1</td>\n",
              "    </tr>\n",
              "    <tr>\n",
              "      <th>2</th>\n",
              "      <td>3</td>\n",
              "      <td>A</td>\n",
              "      <td>Flight</td>\n",
              "      <td>2</td>\n",
              "      <td>2</td>\n",
              "      <td>183</td>\n",
              "      <td>4</td>\n",
              "      <td>low</td>\n",
              "      <td>M</td>\n",
              "      <td>48</td>\n",
              "      <td>3374</td>\n",
              "      <td>1</td>\n",
              "    </tr>\n",
              "    <tr>\n",
              "      <th>3</th>\n",
              "      <td>4</td>\n",
              "      <td>B</td>\n",
              "      <td>Flight</td>\n",
              "      <td>3</td>\n",
              "      <td>3</td>\n",
              "      <td>176</td>\n",
              "      <td>4</td>\n",
              "      <td>medium</td>\n",
              "      <td>M</td>\n",
              "      <td>10</td>\n",
              "      <td>1177</td>\n",
              "      <td>1</td>\n",
              "    </tr>\n",
              "    <tr>\n",
              "      <th>4</th>\n",
              "      <td>5</td>\n",
              "      <td>C</td>\n",
              "      <td>Flight</td>\n",
              "      <td>2</td>\n",
              "      <td>2</td>\n",
              "      <td>184</td>\n",
              "      <td>3</td>\n",
              "      <td>medium</td>\n",
              "      <td>F</td>\n",
              "      <td>46</td>\n",
              "      <td>2484</td>\n",
              "      <td>1</td>\n",
              "    </tr>\n",
              "  </tbody>\n",
              "</table>\n",
              "</div>\n",
              "      <button class=\"colab-df-convert\" onclick=\"convertToInteractive('df-51b68a21-8cba-4b00-88e0-26ab5a6e35f3')\"\n",
              "              title=\"Convert this dataframe to an interactive table.\"\n",
              "              style=\"display:none;\">\n",
              "        \n",
              "  <svg xmlns=\"http://www.w3.org/2000/svg\" height=\"24px\"viewBox=\"0 0 24 24\"\n",
              "       width=\"24px\">\n",
              "    <path d=\"M0 0h24v24H0V0z\" fill=\"none\"/>\n",
              "    <path d=\"M18.56 5.44l.94 2.06.94-2.06 2.06-.94-2.06-.94-.94-2.06-.94 2.06-2.06.94zm-11 1L8.5 8.5l.94-2.06 2.06-.94-2.06-.94L8.5 2.5l-.94 2.06-2.06.94zm10 10l.94 2.06.94-2.06 2.06-.94-2.06-.94-.94-2.06-.94 2.06-2.06.94z\"/><path d=\"M17.41 7.96l-1.37-1.37c-.4-.4-.92-.59-1.43-.59-.52 0-1.04.2-1.43.59L10.3 9.45l-7.72 7.72c-.78.78-.78 2.05 0 2.83L4 21.41c.39.39.9.59 1.41.59.51 0 1.02-.2 1.41-.59l7.78-7.78 2.81-2.81c.8-.78.8-2.07 0-2.86zM5.41 20L4 18.59l7.72-7.72 1.47 1.35L5.41 20z\"/>\n",
              "  </svg>\n",
              "      </button>\n",
              "      \n",
              "  <style>\n",
              "    .colab-df-container {\n",
              "      display:flex;\n",
              "      flex-wrap:wrap;\n",
              "      gap: 12px;\n",
              "    }\n",
              "\n",
              "    .colab-df-convert {\n",
              "      background-color: #E8F0FE;\n",
              "      border: none;\n",
              "      border-radius: 50%;\n",
              "      cursor: pointer;\n",
              "      display: none;\n",
              "      fill: #1967D2;\n",
              "      height: 32px;\n",
              "      padding: 0 0 0 0;\n",
              "      width: 32px;\n",
              "    }\n",
              "\n",
              "    .colab-df-convert:hover {\n",
              "      background-color: #E2EBFA;\n",
              "      box-shadow: 0px 1px 2px rgba(60, 64, 67, 0.3), 0px 1px 3px 1px rgba(60, 64, 67, 0.15);\n",
              "      fill: #174EA6;\n",
              "    }\n",
              "\n",
              "    [theme=dark] .colab-df-convert {\n",
              "      background-color: #3B4455;\n",
              "      fill: #D2E3FC;\n",
              "    }\n",
              "\n",
              "    [theme=dark] .colab-df-convert:hover {\n",
              "      background-color: #434B5C;\n",
              "      box-shadow: 0px 1px 3px 1px rgba(0, 0, 0, 0.15);\n",
              "      filter: drop-shadow(0px 1px 2px rgba(0, 0, 0, 0.3));\n",
              "      fill: #FFFFFF;\n",
              "    }\n",
              "  </style>\n",
              "\n",
              "      <script>\n",
              "        const buttonEl =\n",
              "          document.querySelector('#df-51b68a21-8cba-4b00-88e0-26ab5a6e35f3 button.colab-df-convert');\n",
              "        buttonEl.style.display =\n",
              "          google.colab.kernel.accessAllowed ? 'block' : 'none';\n",
              "\n",
              "        async function convertToInteractive(key) {\n",
              "          const element = document.querySelector('#df-51b68a21-8cba-4b00-88e0-26ab5a6e35f3');\n",
              "          const dataTable =\n",
              "            await google.colab.kernel.invokeFunction('convertToInteractive',\n",
              "                                                     [key], {});\n",
              "          if (!dataTable) return;\n",
              "\n",
              "          const docLinkHtml = 'Like what you see? Visit the ' +\n",
              "            '<a target=\"_blank\" href=https://colab.research.google.com/notebooks/data_table.ipynb>data table notebook</a>'\n",
              "            + ' to learn more about interactive tables.';\n",
              "          element.innerHTML = '';\n",
              "          dataTable['output_type'] = 'display_data';\n",
              "          await google.colab.output.renderOutput(dataTable, element);\n",
              "          const docLink = document.createElement('div');\n",
              "          docLink.innerHTML = docLinkHtml;\n",
              "          element.appendChild(docLink);\n",
              "        }\n",
              "      </script>\n",
              "    </div>\n",
              "  </div>\n",
              "  "
            ]
          },
          "metadata": {},
          "execution_count": 2
        }
      ]
    },
    {
      "cell_type": "code",
      "source": [
        "df.info()"
      ],
      "metadata": {
        "colab": {
          "base_uri": "https://localhost:8080/"
        },
        "id": "DxvY9oki3pAy",
        "outputId": "2c42e589-99cc-4187-a75b-6307c9ba4b2f"
      },
      "execution_count": 3,
      "outputs": [
        {
          "output_type": "stream",
          "name": "stdout",
          "text": [
            "<class 'pandas.core.frame.DataFrame'>\n",
            "RangeIndex: 10999 entries, 0 to 10998\n",
            "Data columns (total 12 columns):\n",
            " #   Column               Non-Null Count  Dtype \n",
            "---  ------               --------------  ----- \n",
            " 0   ID                   10999 non-null  int64 \n",
            " 1   Warehouse_block      10999 non-null  object\n",
            " 2   Mode_of_Shipment     10999 non-null  object\n",
            " 3   Customer_care_calls  10999 non-null  int64 \n",
            " 4   Customer_rating      10999 non-null  int64 \n",
            " 5   Cost_of_the_Product  10999 non-null  int64 \n",
            " 6   Prior_purchases      10999 non-null  int64 \n",
            " 7   Product_importance   10999 non-null  object\n",
            " 8   Gender               10999 non-null  object\n",
            " 9   Discount_offered     10999 non-null  int64 \n",
            " 10  Weight_in_gms        10999 non-null  int64 \n",
            " 11  Reached.on.Time_Y.N  10999 non-null  int64 \n",
            "dtypes: int64(8), object(4)\n",
            "memory usage: 1.0+ MB\n"
          ]
        }
      ]
    },
    {
      "cell_type": "code",
      "source": [
        "df.shape\n",
        "\n",
        "print(f'There are {df.shape[0]} rows, and {df.shape[1]} columns.')\n",
        "print(f'The rows represent {df.shape[0]} observations, and the columns represent {df.shape[1]-1} features and 1 target variable.')"
      ],
      "metadata": {
        "colab": {
          "base_uri": "https://localhost:8080/"
        },
        "id": "jxS6B4Pc3lFZ",
        "outputId": "e6b8fdba-3fa8-43eb-9d9f-a2f6a3657869"
      },
      "execution_count": 4,
      "outputs": [
        {
          "output_type": "stream",
          "name": "stdout",
          "text": [
            "There are 10999 rows, and 12 columns.\n",
            "The rows represent 10999 observations, and the columns represent 11 features and 1 target variable.\n"
          ]
        }
      ]
    },
    {
      "cell_type": "code",
      "source": [
        "df.describe()\n",
        "# there are no outliers in this data set that need to be dealt with"
      ],
      "metadata": {
        "colab": {
          "base_uri": "https://localhost:8080/",
          "height": 300
        },
        "id": "R_iQQmuD3rin",
        "outputId": "57d8b614-3ae1-4f8e-b637-7db064dbb56d"
      },
      "execution_count": 5,
      "outputs": [
        {
          "output_type": "execute_result",
          "data": {
            "text/plain": [
              "                ID  Customer_care_calls  Customer_rating  Cost_of_the_Product  \\\n",
              "count  10999.00000         10999.000000     10999.000000         10999.000000   \n",
              "mean    5500.00000             4.054459         2.990545           210.196836   \n",
              "std     3175.28214             1.141490         1.413603            48.063272   \n",
              "min        1.00000             2.000000         1.000000            96.000000   \n",
              "25%     2750.50000             3.000000         2.000000           169.000000   \n",
              "50%     5500.00000             4.000000         3.000000           214.000000   \n",
              "75%     8249.50000             5.000000         4.000000           251.000000   \n",
              "max    10999.00000             7.000000         5.000000           310.000000   \n",
              "\n",
              "       Prior_purchases  Discount_offered  Weight_in_gms  Reached.on.Time_Y.N  \n",
              "count     10999.000000      10999.000000   10999.000000         10999.000000  \n",
              "mean          3.567597         13.373216    3634.016729             0.596691  \n",
              "std           1.522860         16.205527    1635.377251             0.490584  \n",
              "min           2.000000          1.000000    1001.000000             0.000000  \n",
              "25%           3.000000          4.000000    1839.500000             0.000000  \n",
              "50%           3.000000          7.000000    4149.000000             1.000000  \n",
              "75%           4.000000         10.000000    5050.000000             1.000000  \n",
              "max          10.000000         65.000000    7846.000000             1.000000  "
            ],
            "text/html": [
              "\n",
              "  <div id=\"df-8205c41b-d71e-495d-94a7-d76afb6c038c\">\n",
              "    <div class=\"colab-df-container\">\n",
              "      <div>\n",
              "<style scoped>\n",
              "    .dataframe tbody tr th:only-of-type {\n",
              "        vertical-align: middle;\n",
              "    }\n",
              "\n",
              "    .dataframe tbody tr th {\n",
              "        vertical-align: top;\n",
              "    }\n",
              "\n",
              "    .dataframe thead th {\n",
              "        text-align: right;\n",
              "    }\n",
              "</style>\n",
              "<table border=\"1\" class=\"dataframe\">\n",
              "  <thead>\n",
              "    <tr style=\"text-align: right;\">\n",
              "      <th></th>\n",
              "      <th>ID</th>\n",
              "      <th>Customer_care_calls</th>\n",
              "      <th>Customer_rating</th>\n",
              "      <th>Cost_of_the_Product</th>\n",
              "      <th>Prior_purchases</th>\n",
              "      <th>Discount_offered</th>\n",
              "      <th>Weight_in_gms</th>\n",
              "      <th>Reached.on.Time_Y.N</th>\n",
              "    </tr>\n",
              "  </thead>\n",
              "  <tbody>\n",
              "    <tr>\n",
              "      <th>count</th>\n",
              "      <td>10999.00000</td>\n",
              "      <td>10999.000000</td>\n",
              "      <td>10999.000000</td>\n",
              "      <td>10999.000000</td>\n",
              "      <td>10999.000000</td>\n",
              "      <td>10999.000000</td>\n",
              "      <td>10999.000000</td>\n",
              "      <td>10999.000000</td>\n",
              "    </tr>\n",
              "    <tr>\n",
              "      <th>mean</th>\n",
              "      <td>5500.00000</td>\n",
              "      <td>4.054459</td>\n",
              "      <td>2.990545</td>\n",
              "      <td>210.196836</td>\n",
              "      <td>3.567597</td>\n",
              "      <td>13.373216</td>\n",
              "      <td>3634.016729</td>\n",
              "      <td>0.596691</td>\n",
              "    </tr>\n",
              "    <tr>\n",
              "      <th>std</th>\n",
              "      <td>3175.28214</td>\n",
              "      <td>1.141490</td>\n",
              "      <td>1.413603</td>\n",
              "      <td>48.063272</td>\n",
              "      <td>1.522860</td>\n",
              "      <td>16.205527</td>\n",
              "      <td>1635.377251</td>\n",
              "      <td>0.490584</td>\n",
              "    </tr>\n",
              "    <tr>\n",
              "      <th>min</th>\n",
              "      <td>1.00000</td>\n",
              "      <td>2.000000</td>\n",
              "      <td>1.000000</td>\n",
              "      <td>96.000000</td>\n",
              "      <td>2.000000</td>\n",
              "      <td>1.000000</td>\n",
              "      <td>1001.000000</td>\n",
              "      <td>0.000000</td>\n",
              "    </tr>\n",
              "    <tr>\n",
              "      <th>25%</th>\n",
              "      <td>2750.50000</td>\n",
              "      <td>3.000000</td>\n",
              "      <td>2.000000</td>\n",
              "      <td>169.000000</td>\n",
              "      <td>3.000000</td>\n",
              "      <td>4.000000</td>\n",
              "      <td>1839.500000</td>\n",
              "      <td>0.000000</td>\n",
              "    </tr>\n",
              "    <tr>\n",
              "      <th>50%</th>\n",
              "      <td>5500.00000</td>\n",
              "      <td>4.000000</td>\n",
              "      <td>3.000000</td>\n",
              "      <td>214.000000</td>\n",
              "      <td>3.000000</td>\n",
              "      <td>7.000000</td>\n",
              "      <td>4149.000000</td>\n",
              "      <td>1.000000</td>\n",
              "    </tr>\n",
              "    <tr>\n",
              "      <th>75%</th>\n",
              "      <td>8249.50000</td>\n",
              "      <td>5.000000</td>\n",
              "      <td>4.000000</td>\n",
              "      <td>251.000000</td>\n",
              "      <td>4.000000</td>\n",
              "      <td>10.000000</td>\n",
              "      <td>5050.000000</td>\n",
              "      <td>1.000000</td>\n",
              "    </tr>\n",
              "    <tr>\n",
              "      <th>max</th>\n",
              "      <td>10999.00000</td>\n",
              "      <td>7.000000</td>\n",
              "      <td>5.000000</td>\n",
              "      <td>310.000000</td>\n",
              "      <td>10.000000</td>\n",
              "      <td>65.000000</td>\n",
              "      <td>7846.000000</td>\n",
              "      <td>1.000000</td>\n",
              "    </tr>\n",
              "  </tbody>\n",
              "</table>\n",
              "</div>\n",
              "      <button class=\"colab-df-convert\" onclick=\"convertToInteractive('df-8205c41b-d71e-495d-94a7-d76afb6c038c')\"\n",
              "              title=\"Convert this dataframe to an interactive table.\"\n",
              "              style=\"display:none;\">\n",
              "        \n",
              "  <svg xmlns=\"http://www.w3.org/2000/svg\" height=\"24px\"viewBox=\"0 0 24 24\"\n",
              "       width=\"24px\">\n",
              "    <path d=\"M0 0h24v24H0V0z\" fill=\"none\"/>\n",
              "    <path d=\"M18.56 5.44l.94 2.06.94-2.06 2.06-.94-2.06-.94-.94-2.06-.94 2.06-2.06.94zm-11 1L8.5 8.5l.94-2.06 2.06-.94-2.06-.94L8.5 2.5l-.94 2.06-2.06.94zm10 10l.94 2.06.94-2.06 2.06-.94-2.06-.94-.94-2.06-.94 2.06-2.06.94z\"/><path d=\"M17.41 7.96l-1.37-1.37c-.4-.4-.92-.59-1.43-.59-.52 0-1.04.2-1.43.59L10.3 9.45l-7.72 7.72c-.78.78-.78 2.05 0 2.83L4 21.41c.39.39.9.59 1.41.59.51 0 1.02-.2 1.41-.59l7.78-7.78 2.81-2.81c.8-.78.8-2.07 0-2.86zM5.41 20L4 18.59l7.72-7.72 1.47 1.35L5.41 20z\"/>\n",
              "  </svg>\n",
              "      </button>\n",
              "      \n",
              "  <style>\n",
              "    .colab-df-container {\n",
              "      display:flex;\n",
              "      flex-wrap:wrap;\n",
              "      gap: 12px;\n",
              "    }\n",
              "\n",
              "    .colab-df-convert {\n",
              "      background-color: #E8F0FE;\n",
              "      border: none;\n",
              "      border-radius: 50%;\n",
              "      cursor: pointer;\n",
              "      display: none;\n",
              "      fill: #1967D2;\n",
              "      height: 32px;\n",
              "      padding: 0 0 0 0;\n",
              "      width: 32px;\n",
              "    }\n",
              "\n",
              "    .colab-df-convert:hover {\n",
              "      background-color: #E2EBFA;\n",
              "      box-shadow: 0px 1px 2px rgba(60, 64, 67, 0.3), 0px 1px 3px 1px rgba(60, 64, 67, 0.15);\n",
              "      fill: #174EA6;\n",
              "    }\n",
              "\n",
              "    [theme=dark] .colab-df-convert {\n",
              "      background-color: #3B4455;\n",
              "      fill: #D2E3FC;\n",
              "    }\n",
              "\n",
              "    [theme=dark] .colab-df-convert:hover {\n",
              "      background-color: #434B5C;\n",
              "      box-shadow: 0px 1px 3px 1px rgba(0, 0, 0, 0.15);\n",
              "      filter: drop-shadow(0px 1px 2px rgba(0, 0, 0, 0.3));\n",
              "      fill: #FFFFFF;\n",
              "    }\n",
              "  </style>\n",
              "\n",
              "      <script>\n",
              "        const buttonEl =\n",
              "          document.querySelector('#df-8205c41b-d71e-495d-94a7-d76afb6c038c button.colab-df-convert');\n",
              "        buttonEl.style.display =\n",
              "          google.colab.kernel.accessAllowed ? 'block' : 'none';\n",
              "\n",
              "        async function convertToInteractive(key) {\n",
              "          const element = document.querySelector('#df-8205c41b-d71e-495d-94a7-d76afb6c038c');\n",
              "          const dataTable =\n",
              "            await google.colab.kernel.invokeFunction('convertToInteractive',\n",
              "                                                     [key], {});\n",
              "          if (!dataTable) return;\n",
              "\n",
              "          const docLinkHtml = 'Like what you see? Visit the ' +\n",
              "            '<a target=\"_blank\" href=https://colab.research.google.com/notebooks/data_table.ipynb>data table notebook</a>'\n",
              "            + ' to learn more about interactive tables.';\n",
              "          element.innerHTML = '';\n",
              "          dataTable['output_type'] = 'display_data';\n",
              "          await google.colab.output.renderOutput(dataTable, element);\n",
              "          const docLink = document.createElement('div');\n",
              "          docLink.innerHTML = docLinkHtml;\n",
              "          element.appendChild(docLink);\n",
              "        }\n",
              "      </script>\n",
              "    </div>\n",
              "  </div>\n",
              "  "
            ]
          },
          "metadata": {},
          "execution_count": 5
        }
      ]
    },
    {
      "cell_type": "code",
      "source": [
        "print(f'There are {df.duplicated().sum()} missing values in this data set')"
      ],
      "metadata": {
        "colab": {
          "base_uri": "https://localhost:8080/"
        },
        "id": "xMb6MA5g4wlx",
        "outputId": "221ede0b-4e3d-4f95-f4e9-ac22f35d82cb"
      },
      "execution_count": 6,
      "outputs": [
        {
          "output_type": "stream",
          "name": "stdout",
          "text": [
            "There are 0 missing values in this data set\n"
          ]
        }
      ]
    },
    {
      "cell_type": "code",
      "source": [
        "print(f'There are {df.duplicated().sum()} duplicate rows.')"
      ],
      "metadata": {
        "colab": {
          "base_uri": "https://localhost:8080/"
        },
        "id": "EbprRQmh6FFL",
        "outputId": "ded8d007-2463-433c-d47a-f3cf83434c47"
      },
      "execution_count": 7,
      "outputs": [
        {
          "output_type": "stream",
          "name": "stdout",
          "text": [
            "There are 0 duplicate rows.\n"
          ]
        }
      ]
    },
    {
      "cell_type": "code",
      "source": [
        "df.columns"
      ],
      "metadata": {
        "colab": {
          "base_uri": "https://localhost:8080/"
        },
        "id": "BiVa1BYT6sks",
        "outputId": "7dff0b4c-0280-4a16-9963-e1d28415306b"
      },
      "execution_count": 8,
      "outputs": [
        {
          "output_type": "execute_result",
          "data": {
            "text/plain": [
              "Index(['ID', 'Warehouse_block', 'Mode_of_Shipment', 'Customer_care_calls',\n",
              "       'Customer_rating', 'Cost_of_the_Product', 'Prior_purchases',\n",
              "       'Product_importance', 'Gender', 'Discount_offered', 'Weight_in_gms',\n",
              "       'Reached.on.Time_Y.N'],\n",
              "      dtype='object')"
            ]
          },
          "metadata": {},
          "execution_count": 8
        }
      ]
    },
    {
      "cell_type": "code",
      "source": [
        "df.nunique()\n",
        "# drop ID since they are all unique values; rest of columns are needed"
      ],
      "metadata": {
        "colab": {
          "base_uri": "https://localhost:8080/"
        },
        "id": "ZwaLddeRErmy",
        "outputId": "38beff08-1796-4f5c-e75f-664e0e9a9e48"
      },
      "execution_count": 9,
      "outputs": [
        {
          "output_type": "execute_result",
          "data": {
            "text/plain": [
              "ID                     10999\n",
              "Warehouse_block            5\n",
              "Mode_of_Shipment           3\n",
              "Customer_care_calls        6\n",
              "Customer_rating            5\n",
              "Cost_of_the_Product      215\n",
              "Prior_purchases            8\n",
              "Product_importance         3\n",
              "Gender                     2\n",
              "Discount_offered          65\n",
              "Weight_in_gms           4034\n",
              "Reached.on.Time_Y.N        2\n",
              "dtype: int64"
            ]
          },
          "metadata": {},
          "execution_count": 9
        }
      ]
    },
    {
      "cell_type": "code",
      "source": [
        "del df['ID']\n",
        "df.head()"
      ],
      "metadata": {
        "colab": {
          "base_uri": "https://localhost:8080/",
          "height": 270
        },
        "id": "YSXBuny6FNgV",
        "outputId": "e50ca6ec-abed-488a-8673-ec1783090c14"
      },
      "execution_count": 10,
      "outputs": [
        {
          "output_type": "execute_result",
          "data": {
            "text/plain": [
              "  Warehouse_block Mode_of_Shipment  Customer_care_calls  Customer_rating  \\\n",
              "0               D           Flight                    4                2   \n",
              "1               F           Flight                    4                5   \n",
              "2               A           Flight                    2                2   \n",
              "3               B           Flight                    3                3   \n",
              "4               C           Flight                    2                2   \n",
              "\n",
              "   Cost_of_the_Product  Prior_purchases Product_importance Gender  \\\n",
              "0                  177                3                low      F   \n",
              "1                  216                2                low      M   \n",
              "2                  183                4                low      M   \n",
              "3                  176                4             medium      M   \n",
              "4                  184                3             medium      F   \n",
              "\n",
              "   Discount_offered  Weight_in_gms  Reached.on.Time_Y.N  \n",
              "0                44           1233                    1  \n",
              "1                59           3088                    1  \n",
              "2                48           3374                    1  \n",
              "3                10           1177                    1  \n",
              "4                46           2484                    1  "
            ],
            "text/html": [
              "\n",
              "  <div id=\"df-634f11ad-081f-430b-9ae1-16c4e15a7307\">\n",
              "    <div class=\"colab-df-container\">\n",
              "      <div>\n",
              "<style scoped>\n",
              "    .dataframe tbody tr th:only-of-type {\n",
              "        vertical-align: middle;\n",
              "    }\n",
              "\n",
              "    .dataframe tbody tr th {\n",
              "        vertical-align: top;\n",
              "    }\n",
              "\n",
              "    .dataframe thead th {\n",
              "        text-align: right;\n",
              "    }\n",
              "</style>\n",
              "<table border=\"1\" class=\"dataframe\">\n",
              "  <thead>\n",
              "    <tr style=\"text-align: right;\">\n",
              "      <th></th>\n",
              "      <th>Warehouse_block</th>\n",
              "      <th>Mode_of_Shipment</th>\n",
              "      <th>Customer_care_calls</th>\n",
              "      <th>Customer_rating</th>\n",
              "      <th>Cost_of_the_Product</th>\n",
              "      <th>Prior_purchases</th>\n",
              "      <th>Product_importance</th>\n",
              "      <th>Gender</th>\n",
              "      <th>Discount_offered</th>\n",
              "      <th>Weight_in_gms</th>\n",
              "      <th>Reached.on.Time_Y.N</th>\n",
              "    </tr>\n",
              "  </thead>\n",
              "  <tbody>\n",
              "    <tr>\n",
              "      <th>0</th>\n",
              "      <td>D</td>\n",
              "      <td>Flight</td>\n",
              "      <td>4</td>\n",
              "      <td>2</td>\n",
              "      <td>177</td>\n",
              "      <td>3</td>\n",
              "      <td>low</td>\n",
              "      <td>F</td>\n",
              "      <td>44</td>\n",
              "      <td>1233</td>\n",
              "      <td>1</td>\n",
              "    </tr>\n",
              "    <tr>\n",
              "      <th>1</th>\n",
              "      <td>F</td>\n",
              "      <td>Flight</td>\n",
              "      <td>4</td>\n",
              "      <td>5</td>\n",
              "      <td>216</td>\n",
              "      <td>2</td>\n",
              "      <td>low</td>\n",
              "      <td>M</td>\n",
              "      <td>59</td>\n",
              "      <td>3088</td>\n",
              "      <td>1</td>\n",
              "    </tr>\n",
              "    <tr>\n",
              "      <th>2</th>\n",
              "      <td>A</td>\n",
              "      <td>Flight</td>\n",
              "      <td>2</td>\n",
              "      <td>2</td>\n",
              "      <td>183</td>\n",
              "      <td>4</td>\n",
              "      <td>low</td>\n",
              "      <td>M</td>\n",
              "      <td>48</td>\n",
              "      <td>3374</td>\n",
              "      <td>1</td>\n",
              "    </tr>\n",
              "    <tr>\n",
              "      <th>3</th>\n",
              "      <td>B</td>\n",
              "      <td>Flight</td>\n",
              "      <td>3</td>\n",
              "      <td>3</td>\n",
              "      <td>176</td>\n",
              "      <td>4</td>\n",
              "      <td>medium</td>\n",
              "      <td>M</td>\n",
              "      <td>10</td>\n",
              "      <td>1177</td>\n",
              "      <td>1</td>\n",
              "    </tr>\n",
              "    <tr>\n",
              "      <th>4</th>\n",
              "      <td>C</td>\n",
              "      <td>Flight</td>\n",
              "      <td>2</td>\n",
              "      <td>2</td>\n",
              "      <td>184</td>\n",
              "      <td>3</td>\n",
              "      <td>medium</td>\n",
              "      <td>F</td>\n",
              "      <td>46</td>\n",
              "      <td>2484</td>\n",
              "      <td>1</td>\n",
              "    </tr>\n",
              "  </tbody>\n",
              "</table>\n",
              "</div>\n",
              "      <button class=\"colab-df-convert\" onclick=\"convertToInteractive('df-634f11ad-081f-430b-9ae1-16c4e15a7307')\"\n",
              "              title=\"Convert this dataframe to an interactive table.\"\n",
              "              style=\"display:none;\">\n",
              "        \n",
              "  <svg xmlns=\"http://www.w3.org/2000/svg\" height=\"24px\"viewBox=\"0 0 24 24\"\n",
              "       width=\"24px\">\n",
              "    <path d=\"M0 0h24v24H0V0z\" fill=\"none\"/>\n",
              "    <path d=\"M18.56 5.44l.94 2.06.94-2.06 2.06-.94-2.06-.94-.94-2.06-.94 2.06-2.06.94zm-11 1L8.5 8.5l.94-2.06 2.06-.94-2.06-.94L8.5 2.5l-.94 2.06-2.06.94zm10 10l.94 2.06.94-2.06 2.06-.94-2.06-.94-.94-2.06-.94 2.06-2.06.94z\"/><path d=\"M17.41 7.96l-1.37-1.37c-.4-.4-.92-.59-1.43-.59-.52 0-1.04.2-1.43.59L10.3 9.45l-7.72 7.72c-.78.78-.78 2.05 0 2.83L4 21.41c.39.39.9.59 1.41.59.51 0 1.02-.2 1.41-.59l7.78-7.78 2.81-2.81c.8-.78.8-2.07 0-2.86zM5.41 20L4 18.59l7.72-7.72 1.47 1.35L5.41 20z\"/>\n",
              "  </svg>\n",
              "      </button>\n",
              "      \n",
              "  <style>\n",
              "    .colab-df-container {\n",
              "      display:flex;\n",
              "      flex-wrap:wrap;\n",
              "      gap: 12px;\n",
              "    }\n",
              "\n",
              "    .colab-df-convert {\n",
              "      background-color: #E8F0FE;\n",
              "      border: none;\n",
              "      border-radius: 50%;\n",
              "      cursor: pointer;\n",
              "      display: none;\n",
              "      fill: #1967D2;\n",
              "      height: 32px;\n",
              "      padding: 0 0 0 0;\n",
              "      width: 32px;\n",
              "    }\n",
              "\n",
              "    .colab-df-convert:hover {\n",
              "      background-color: #E2EBFA;\n",
              "      box-shadow: 0px 1px 2px rgba(60, 64, 67, 0.3), 0px 1px 3px 1px rgba(60, 64, 67, 0.15);\n",
              "      fill: #174EA6;\n",
              "    }\n",
              "\n",
              "    [theme=dark] .colab-df-convert {\n",
              "      background-color: #3B4455;\n",
              "      fill: #D2E3FC;\n",
              "    }\n",
              "\n",
              "    [theme=dark] .colab-df-convert:hover {\n",
              "      background-color: #434B5C;\n",
              "      box-shadow: 0px 1px 3px 1px rgba(0, 0, 0, 0.15);\n",
              "      filter: drop-shadow(0px 1px 2px rgba(0, 0, 0, 0.3));\n",
              "      fill: #FFFFFF;\n",
              "    }\n",
              "  </style>\n",
              "\n",
              "      <script>\n",
              "        const buttonEl =\n",
              "          document.querySelector('#df-634f11ad-081f-430b-9ae1-16c4e15a7307 button.colab-df-convert');\n",
              "        buttonEl.style.display =\n",
              "          google.colab.kernel.accessAllowed ? 'block' : 'none';\n",
              "\n",
              "        async function convertToInteractive(key) {\n",
              "          const element = document.querySelector('#df-634f11ad-081f-430b-9ae1-16c4e15a7307');\n",
              "          const dataTable =\n",
              "            await google.colab.kernel.invokeFunction('convertToInteractive',\n",
              "                                                     [key], {});\n",
              "          if (!dataTable) return;\n",
              "\n",
              "          const docLinkHtml = 'Like what you see? Visit the ' +\n",
              "            '<a target=\"_blank\" href=https://colab.research.google.com/notebooks/data_table.ipynb>data table notebook</a>'\n",
              "            + ' to learn more about interactive tables.';\n",
              "          element.innerHTML = '';\n",
              "          dataTable['output_type'] = 'display_data';\n",
              "          await google.colab.output.renderOutput(dataTable, element);\n",
              "          const docLink = document.createElement('div');\n",
              "          docLink.innerHTML = docLinkHtml;\n",
              "          element.appendChild(docLink);\n",
              "        }\n",
              "      </script>\n",
              "    </div>\n",
              "  </div>\n",
              "  "
            ]
          },
          "metadata": {},
          "execution_count": 10
        }
      ]
    },
    {
      "cell_type": "code",
      "source": [
        "df.info()\n",
        "#all types look correct"
      ],
      "metadata": {
        "colab": {
          "base_uri": "https://localhost:8080/"
        },
        "id": "ZE7fvm_cGRgI",
        "outputId": "bc18e404-c307-40fb-c93b-96bf3e16ed4b"
      },
      "execution_count": 11,
      "outputs": [
        {
          "output_type": "stream",
          "name": "stdout",
          "text": [
            "<class 'pandas.core.frame.DataFrame'>\n",
            "RangeIndex: 10999 entries, 0 to 10998\n",
            "Data columns (total 11 columns):\n",
            " #   Column               Non-Null Count  Dtype \n",
            "---  ------               --------------  ----- \n",
            " 0   Warehouse_block      10999 non-null  object\n",
            " 1   Mode_of_Shipment     10999 non-null  object\n",
            " 2   Customer_care_calls  10999 non-null  int64 \n",
            " 3   Customer_rating      10999 non-null  int64 \n",
            " 4   Cost_of_the_Product  10999 non-null  int64 \n",
            " 5   Prior_purchases      10999 non-null  int64 \n",
            " 6   Product_importance   10999 non-null  object\n",
            " 7   Gender               10999 non-null  object\n",
            " 8   Discount_offered     10999 non-null  int64 \n",
            " 9   Weight_in_gms        10999 non-null  int64 \n",
            " 10  Reached.on.Time_Y.N  10999 non-null  int64 \n",
            "dtypes: int64(7), object(4)\n",
            "memory usage: 945.4+ KB\n"
          ]
        }
      ]
    },
    {
      "cell_type": "code",
      "source": [
        "data_types = df.dtypes\n",
        "str_cols = data_types[data_types=='object'].index\n",
        "str_cols"
      ],
      "metadata": {
        "colab": {
          "base_uri": "https://localhost:8080/"
        },
        "id": "ZaflGjThHIWt",
        "outputId": "8608fcf8-baf5-4248-a882-7f3082104d27"
      },
      "execution_count": 15,
      "outputs": [
        {
          "output_type": "execute_result",
          "data": {
            "text/plain": [
              "Index(['Warehouse_block', 'Mode_of_Shipment', 'Product_importance', 'Gender'], dtype='object')"
            ]
          },
          "metadata": {},
          "execution_count": 15
        }
      ]
    },
    {
      "cell_type": "code",
      "source": [
        "for col in str_cols:\n",
        "    print(f'- {col}:')\n",
        "    print(df[col].value_counts(dropna=False))\n",
        "    print(\"\\n\\n\")\n",
        "\n",
        "# all object columns have no categorical inconsistencies to fix"
      ],
      "metadata": {
        "colab": {
          "base_uri": "https://localhost:8080/"
        },
        "id": "tniHt0yDJVAW",
        "outputId": "2cd323b1-8b29-4819-fba7-779ee4f5d159"
      },
      "execution_count": 16,
      "outputs": [
        {
          "output_type": "stream",
          "name": "stdout",
          "text": [
            "- Warehouse_block:\n",
            "F    3666\n",
            "D    1834\n",
            "A    1833\n",
            "B    1833\n",
            "C    1833\n",
            "Name: Warehouse_block, dtype: int64\n",
            "\n",
            "\n",
            "\n",
            "- Mode_of_Shipment:\n",
            "Ship      7462\n",
            "Flight    1777\n",
            "Road      1760\n",
            "Name: Mode_of_Shipment, dtype: int64\n",
            "\n",
            "\n",
            "\n",
            "- Product_importance:\n",
            "low       5297\n",
            "medium    4754\n",
            "high       948\n",
            "Name: Product_importance, dtype: int64\n",
            "\n",
            "\n",
            "\n",
            "- Gender:\n",
            "F    5545\n",
            "M    5454\n",
            "Name: Gender, dtype: int64\n",
            "\n",
            "\n",
            "\n"
          ]
        }
      ]
    },
    {
      "cell_type": "markdown",
      "source": [
        "#Univariate Visuals - For the target and all features"
      ],
      "metadata": {
        "id": "R0TDTaw3MMFh"
      }
    },
    {
      "cell_type": "code",
      "source": [
        "df.columns\n",
        "#target = reached on time"
      ],
      "metadata": {
        "colab": {
          "base_uri": "https://localhost:8080/"
        },
        "id": "FB0STz_-J61i",
        "outputId": "8a735bae-91b2-4402-cc10-fabcd02a6d0d"
      },
      "execution_count": 20,
      "outputs": [
        {
          "output_type": "execute_result",
          "data": {
            "text/plain": [
              "Index(['Warehouse_block', 'Mode_of_Shipment', 'Customer_care_calls',\n",
              "       'Customer_rating', 'Cost_of_the_Product', 'Prior_purchases',\n",
              "       'Product_importance', 'Gender', 'Discount_offered', 'Weight_in_gms',\n",
              "       'Reached.on.Time_Y.N'],\n",
              "      dtype='object')"
            ]
          },
          "metadata": {},
          "execution_count": 20
        }
      ]
    },
    {
      "cell_type": "markdown",
      "source": [
        "## Warehouse Block"
      ],
      "metadata": {
        "id": "5bTpSgByWqFC"
      }
    },
    {
      "cell_type": "code",
      "source": [
        "ax = sns.histplot(x = 'Warehouse_block', \n",
        "              data = df, \n",
        "              color = 'blue')\n",
        "ax.set(xlabel='Warehouse Block', ylabel='Count of Warehouse Block')\n",
        "plt.show()\n",
        "df['Warehouse_block'].value_counts()\n"
      ],
      "metadata": {
        "colab": {
          "base_uri": "https://localhost:8080/",
          "height": 386
        },
        "id": "nPM6WZxNMuHH",
        "outputId": "8c038943-0c9a-4d44-dbd1-425a14f5c427"
      },
      "execution_count": 33,
      "outputs": [
        {
          "output_type": "display_data",
          "data": {
            "text/plain": [
              "<Figure size 432x288 with 1 Axes>"
            ],
            "image/png": "[encoded data removed]"
          },
          "metadata": {
            "needs_background": "light"
          }
        },
        {
          "output_type": "execute_result",
          "data": {
            "text/plain": [
              "F    3666\n",
              "D    1834\n",
              "A    1833\n",
              "B    1833\n",
              "C    1833\n",
              "Name: Warehouse_block, dtype: int64"
            ]
          },
          "metadata": {},
          "execution_count": 33
        }
      ]
    },
    {
      "cell_type": "markdown",
      "source": [
        "The F block has the highest amount of shipments in the data set. "
      ],
      "metadata": {
        "id": "QiuVKgqvQVVO"
      }
    },
    {
      "cell_type": "markdown",
      "source": [
        "## Mode of Shipment"
      ],
      "metadata": {
        "id": "0z-ZC433WsgW"
      }
    },
    {
      "cell_type": "code",
      "source": [
        "ax = sns.histplot(x = 'Mode_of_Shipment', \n",
        "              data = df, \n",
        "              color = 'purple')\n",
        "ax.set(xlabel='Mode of shipment', ylabel='Count of modes')\n",
        "plt.show()\n",
        "df['Mode_of_Shipment'].value_counts()"
      ],
      "metadata": {
        "colab": {
          "base_uri": "https://localhost:8080/",
          "height": 350
        },
        "id": "AzAFAvykQAyr",
        "outputId": "48b7d5fc-ea4d-4fe3-99f0-efb3b040d193"
      },
      "execution_count": 34,
      "outputs": [
        {
          "output_type": "display_data",
          "data": {
            "text/plain": [
              "<Figure size 432x288 with 1 Axes>"
            ],
            "image/png": "[encoded data removed]"
          },
          "metadata": {
            "needs_background": "light"
          }
        },
        {
          "output_type": "execute_result",
          "data": {
            "text/plain": [
              "Ship      7462\n",
              "Flight    1777\n",
              "Road      1760\n",
              "Name: Mode_of_Shipment, dtype: int64"
            ]
          },
          "metadata": {},
          "execution_count": 34
        }
      ]
    },
    {
      "cell_type": "markdown",
      "source": [
        "The most common mode of transportation for this data set is via Ship. "
      ],
      "metadata": {
        "id": "rDgnsUuXQ2Lj"
      }
    },
    {
      "cell_type": "markdown",
      "source": [
        "##Product Importance"
      ],
      "metadata": {
        "id": "6AWBBvvXWurA"
      }
    },
    {
      "cell_type": "code",
      "source": [
        "ax = sns.histplot(x = 'Product_importance', \n",
        "              data = df, \n",
        "              color = 'green')\n",
        "ax.set(xlabel='Product Importance', ylabel='Count of Product Importance')\n",
        "plt.show()\n",
        "df['Product_importance'].value_counts()"
      ],
      "metadata": {
        "colab": {
          "base_uri": "https://localhost:8080/",
          "height": 350
        },
        "id": "De53cD8eOg9Y",
        "outputId": "eeb13e81-6882-483e-92d9-0ec66fd3eb7b"
      },
      "execution_count": 35,
      "outputs": [
        {
          "output_type": "display_data",
          "data": {
            "text/plain": [
              "<Figure size 432x288 with 1 Axes>"
            ],
            "image/png": "[encoded data removed]"
          },
          "metadata": {
            "needs_background": "light"
          }
        },
        {
          "output_type": "execute_result",
          "data": {
            "text/plain": [
              "low       5297\n",
              "medium    4754\n",
              "high       948\n",
              "Name: Product_importance, dtype: int64"
            ]
          },
          "metadata": {},
          "execution_count": 35
        }
      ]
    },
    {
      "cell_type": "markdown",
      "source": [
        "The most common product importance is low importance. Most of the data points(shipments) in this data set are of low and medium importance. Shipments marked high importance are the lowest quantity in the data set. "
      ],
      "metadata": {
        "id": "BpaMBCgeRTD0"
      }
    },
    {
      "cell_type": "markdown",
      "source": [
        "## Gender"
      ],
      "metadata": {
        "id": "MGqvKPgZWxbQ"
      }
    },
    {
      "cell_type": "code",
      "source": [
        "ax = sns.histplot(x = 'Gender', \n",
        "              data = df, \n",
        "              color = 'red')\n",
        "ax.set(xlabel='Gender', ylabel='Count of Gender')\n",
        "plt.show()\n",
        "df['Gender'].value_counts()"
      ],
      "metadata": {
        "colab": {
          "base_uri": "https://localhost:8080/",
          "height": 333
        },
        "id": "2QLsUdQOShNJ",
        "outputId": "084acb57-99de-4138-a922-8f315bdedcf6"
      },
      "execution_count": 38,
      "outputs": [
        {
          "output_type": "display_data",
          "data": {
            "text/plain": [
              "<Figure size 432x288 with 1 Axes>"
            ],
            "image/png": "[encoded data removed]"
          },
          "metadata": {
            "needs_background": "light"
          }
        },
        {
          "output_type": "execute_result",
          "data": {
            "text/plain": [
              "F    5545\n",
              "M    5454\n",
              "Name: Gender, dtype: int64"
            ]
          },
          "metadata": {},
          "execution_count": 38
        }
      ]
    },
    {
      "cell_type": "markdown",
      "source": [
        "There is a very even split of male and female for this data set. "
      ],
      "metadata": {
        "id": "XAmNVstNSxIU"
      }
    },
    {
      "cell_type": "markdown",
      "source": [
        "## Customer Care Calls"
      ],
      "metadata": {
        "id": "jSJ7OWkDW4Dx"
      }
    },
    {
      "cell_type": "code",
      "source": [
        "ax = sns.histplot(x = 'Customer_care_calls', \n",
        "              data = df, \n",
        "              color = 'orange')\n",
        "ax.set(xlabel='Customer Care Calls', ylabel='Count of Customer Care Calls')\n",
        "plt.show()\n",
        "df['Customer_care_calls'].value_counts()"
      ],
      "metadata": {
        "colab": {
          "base_uri": "https://localhost:8080/",
          "height": 404
        },
        "id": "patuSlkETqYS",
        "outputId": "72a20735-3875-4a58-f649-295cd2469bea"
      },
      "execution_count": 41,
      "outputs": [
        {
          "output_type": "display_data",
          "data": {
            "text/plain": [
              "<Figure size 432x288 with 1 Axes>"
            ],
            "image/png": "[encoded data removed]"
          },
          "metadata": {
            "needs_background": "light"
          }
        },
        {
          "output_type": "execute_result",
          "data": {
            "text/plain": [
              "4    3557\n",
              "3    3217\n",
              "5    2328\n",
              "6    1013\n",
              "2     638\n",
              "7     246\n",
              "Name: Customer_care_calls, dtype: int64"
            ]
          },
          "metadata": {},
          "execution_count": 41
        }
      ]
    },
    {
      "cell_type": "markdown",
      "source": [
        "The most common count of customer care calls is 4. There are 3557 entries/shipments that have 4 customer care calls. The lowest grouped amount of times customer care was called was 7, where there were only 246 entries. "
      ],
      "metadata": {
        "id": "focjO1VuUhFz"
      }
    },
    {
      "cell_type": "markdown",
      "source": [
        "## Customer Rating"
      ],
      "metadata": {
        "id": "tKFqSJqNW87i"
      }
    },
    {
      "cell_type": "code",
      "source": [
        "ax = sns.histplot(x = 'Customer_rating', \n",
        "              data = df, \n",
        "              color = 'pink')\n",
        "ax.set(xlabel='Customer Rating', ylabel='Count of Customer Rating')\n",
        "plt.show()\n",
        "df['Customer_rating'].value_counts()"
      ],
      "metadata": {
        "colab": {
          "base_uri": "https://localhost:8080/",
          "height": 386
        },
        "id": "VJINvW66U9NL",
        "outputId": "39c356be-b104-4c2c-8757-361601dd905b"
      },
      "execution_count": 42,
      "outputs": [
        {
          "output_type": "display_data",
          "data": {
            "text/plain": [
              "<Figure size 432x288 with 1 Axes>"
            ],
            "image/png": "[encoded data removed]"
          },
          "metadata": {
            "needs_background": "light"
          }
        },
        {
          "output_type": "execute_result",
          "data": {
            "text/plain": [
              "3    2239\n",
              "1    2235\n",
              "4    2189\n",
              "5    2171\n",
              "2    2165\n",
              "Name: Customer_rating, dtype: int64"
            ]
          },
          "metadata": {},
          "execution_count": 42
        }
      ]
    },
    {
      "cell_type": "markdown",
      "source": [
        "There is a very even distribution of customer ratings across this data set. There is no one rating that stands out on its own. "
      ],
      "metadata": {
        "id": "GjAKRSbTVLL1"
      }
    },
    {
      "cell_type": "markdown",
      "source": [
        "## Cost of Product"
      ],
      "metadata": {
        "id": "xsRszY8KW_cW"
      }
    },
    {
      "cell_type": "code",
      "source": [
        "ax = sns.histplot(x = 'Cost_of_the_Product', \n",
        "              data = df, \n",
        "              color = 'pink')\n",
        "ax.set(xlabel='Cost of Product', ylabel='Count of Cost of Product')\n",
        "plt.show()\n",
        "df['Cost_of_the_Product'].value_counts().sort_values()"
      ],
      "metadata": {
        "colab": {
          "base_uri": "https://localhost:8080/",
          "height": 1000
        },
        "id": "JUeX-8EXVVa6",
        "outputId": "f0e23df3-8a0a-4c80-877e-7cb53edc4f01"
      },
      "execution_count": 48,
      "outputs": [
        {
          "output_type": "display_data",
          "data": {
            "text/plain": [
              "<Figure size 432x288 with 1 Axes>"
            ],
            "image/png": "[encoded data removed]"
          },
          "metadata": {
            "needs_background": "light"
          }
        },
        {
          "output_type": "execute_result",
          "data": {
            "text/plain": [
              "122      4\n",
              "107      5\n",
              "96       5\n",
              "120      5\n",
              "99       5\n",
              "303      6\n",
              "299      6\n",
              "119      6\n",
              "288      6\n",
              "97       7\n",
              "297      7\n",
              "103      7\n",
              "115      7\n",
              "302      8\n",
              "112      8\n",
              "114      8\n",
              "110      8\n",
              "118      8\n",
              "124      9\n",
              "100      9\n",
              "128      9\n",
              "106      9\n",
              "116      9\n",
              "108      9\n",
              "105      9\n",
              "125     10\n",
              "126     10\n",
              "300     11\n",
              "102     11\n",
              "131     11\n",
              "101     12\n",
              "295     12\n",
              "127     12\n",
              "130     12\n",
              "117     12\n",
              "294     13\n",
              "129     13\n",
              "109     13\n",
              "123     13\n",
              "298     13\n",
              "293     13\n",
              "307     14\n",
              "98      14\n",
              "292     15\n",
              "290     15\n",
              "309     15\n",
              "277     16\n",
              "104     16\n",
              "291     17\n",
              "310     17\n",
              "121     17\n",
              "304     17\n",
              "306     18\n",
              "113     18\n",
              "305     18\n",
              "289     19\n",
              "308     20\n",
              "283     20\n",
              "301     21\n",
              "296     21\n",
              "284     21\n",
              "111     21\n",
              "281     23\n",
              "287     25\n",
              "280     25\n",
              "276     26\n",
              "278     27\n",
              "285     28\n",
              "279     31\n",
              "282     32\n",
              "132     38\n",
              "286     38\n",
              "138     42\n",
              "215     43\n",
              "200     47\n",
              "136     48\n",
              "147     50\n",
              "230     50\n",
              "188     51\n",
              "207     51\n",
              "213     53\n",
              "214     53\n",
              "194     53\n",
              "146     53\n",
              "193     55\n",
              "210     55\n",
              "159     55\n",
              "203     55\n",
              "141     55\n",
              "166     55\n",
              "190     56\n",
              "152     56\n",
              "179     56\n",
              "212     57\n",
              "182     57\n",
              "170     57\n",
              "172     57\n",
              "220     57\n",
              "208     57\n",
              "191     58\n",
              "204     58\n",
              "216     58\n",
              "144     58\n",
              "175     58\n",
              "142     58\n",
              "155     58\n",
              "195     58\n",
              "186     59\n",
              "178     59\n",
              "205     60\n",
              "218     60\n",
              "176     60\n",
              "211     60\n",
              "143     60\n",
              "197     61\n",
              "164     61\n",
              "165     61\n",
              "199     61\n",
              "137     61\n",
              "174     61\n",
              "196     61\n",
              "153     62\n",
              "145     62\n",
              "187     62\n",
              "163     62\n",
              "148     63\n",
              "235     63\n",
              "217     63\n",
              "133     64\n",
              "231     64\n",
              "227     64\n",
              "158     64\n",
              "161     64\n",
              "167     65\n",
              "184     65\n",
              "181     65\n",
              "209     66\n",
              "234     67\n",
              "169     67\n",
              "183     67\n",
              "198     67\n",
              "177     67\n",
              "228     67\n",
              "173     69\n",
              "256     69\n",
              "135     69\n",
              "275     69\n",
              "168     69\n",
              "185     69\n",
              "219     70\n",
              "222     70\n",
              "139     70\n",
              "156     70\n",
              "221     70\n",
              "171     71\n",
              "202     71\n",
              "154     71\n",
              "206     71\n",
              "134     71\n",
              "180     71\n",
              "241     72\n",
              "140     72\n",
              "157     72\n",
              "149     72\n",
              "236     73\n",
              "189     73\n",
              "274     74\n",
              "267     74\n",
              "262     75\n",
              "272     75\n",
              "248     76\n",
              "273     76\n",
              "162     76\n",
              "240     76\n",
              "237     77\n",
              "242     78\n",
              "226     78\n",
              "252     78\n",
              "151     78\n",
              "259     78\n",
              "225     78\n",
              "150     78\n",
              "229     79\n",
              "192     79\n",
              "160     80\n",
              "253     80\n",
              "201     80\n",
              "239     81\n",
              "270     81\n",
              "246     83\n",
              "251     83\n",
              "265     83\n",
              "232     83\n",
              "249     83\n",
              "268     84\n",
              "269     85\n",
              "223     86\n",
              "250     87\n",
              "224     88\n",
              "247     89\n",
              "261     89\n",
              "238     90\n",
              "244     90\n",
              "233     90\n",
              "271     91\n",
              "266     93\n",
              "258     96\n",
              "263     97\n",
              "255     98\n",
              "243    100\n",
              "264    100\n",
              "254    101\n",
              "260    106\n",
              "257    109\n",
              "245    110\n",
              "Name: Cost_of_the_Product, dtype: int64"
            ]
          },
          "metadata": {},
          "execution_count": 48
        }
      ]
    },
    {
      "cell_type": "code",
      "source": [
        "ax = sns.boxplot(x = 'Cost_of_the_Product', \n",
        "              data = df, \n",
        "              color = 'pink')\n",
        "ax.set(xlabel='Cost of Product', ylabel='Count of Cost of Product')\n",
        "plt.show()\n"
      ],
      "metadata": {
        "colab": {
          "base_uri": "https://localhost:8080/",
          "height": 279
        },
        "id": "YClrZnfVXDGW",
        "outputId": "9b732d66-d086-4a28-86ac-47316d5dac41"
      },
      "execution_count": 49,
      "outputs": [
        {
          "output_type": "display_data",
          "data": {
            "text/plain": [
              "<Figure size 432x288 with 1 Axes>"
            ],
            "image/png": "[encoded data removed]"
          },
          "metadata": {
            "needs_background": "light"
          }
        }
      ]
    },
    {
      "cell_type": "markdown",
      "source": [
        "The most common cost of product is 245. There are 110 shipments that the product cost 245. The boxplot shows that the bulk of the data have the cost of the product between around 175 and 250. This also shows that there are not any huge outliers in this data set. "
      ],
      "metadata": {
        "id": "pELSo69GWYB9"
      }
    },
    {
      "cell_type": "markdown",
      "source": [
        "## Prior Purchases"
      ],
      "metadata": {
        "id": "vv4ObiKcoxlS"
      }
    },
    {
      "cell_type": "code",
      "source": [
        "ax = sns.histplot(x = 'Prior_purchases', \n",
        "              data = df, \n",
        "              color = 'yellow')\n",
        "ax.set(xlabel='Prior Purchases', ylabel='Count of Prior Purchases')\n",
        "plt.show()\n",
        "df['Prior_purchases'].value_counts()"
      ],
      "metadata": {
        "colab": {
          "base_uri": "https://localhost:8080/",
          "height": 440
        },
        "id": "geBg_XYcovqD",
        "outputId": "c829c560-2a84-4298-a284-541a25e364da"
      },
      "execution_count": 53,
      "outputs": [
        {
          "output_type": "display_data",
          "data": {
            "text/plain": [
              "<Figure size 432x288 with 1 Axes>"
            ],
            "image/png": "[encoded data removed]"
          },
          "metadata": {
            "needs_background": "light"
          }
        },
        {
          "output_type": "execute_result",
          "data": {
            "text/plain": [
              "3     3955\n",
              "2     2599\n",
              "4     2155\n",
              "5     1287\n",
              "6      561\n",
              "10     178\n",
              "7      136\n",
              "8      128\n",
              "Name: Prior_purchases, dtype: int64"
            ]
          },
          "metadata": {},
          "execution_count": 53
        }
      ]
    },
    {
      "cell_type": "markdown",
      "source": [
        "The most common about of prior purchases is 3. This means that most of the shipments are shipments that the customer/client have purchased in the past. "
      ],
      "metadata": {
        "id": "0zni2Ot3pGNS"
      }
    },
    {
      "cell_type": "markdown",
      "source": [
        "##Discount Offered"
      ],
      "metadata": {
        "id": "CzuAjZ0Yp6u7"
      }
    },
    {
      "cell_type": "code",
      "source": [
        "ax = sns.histplot(x = 'Discount_offered', \n",
        "              data = df, \n",
        "              color = 'cyan')\n",
        "ax.set(xlabel='Discount Offerred', ylabel='Count of Discount Offered')\n",
        "plt.show()\n",
        "df['Discount_offered'].value_counts().sort_values()"
      ],
      "metadata": {
        "colab": {
          "base_uri": "https://localhost:8080/",
          "height": 1000
        },
        "id": "LPrh4I2XpEe3",
        "outputId": "4731a522-d197-494f-a2c8-fed13372c289"
      },
      "execution_count": 55,
      "outputs": [
        {
          "output_type": "display_data",
          "data": {
            "text/plain": [
              "<Figure size 432x288 with 1 Axes>"
            ],
            "image/png": "[encoded data removed]"
          },
          "metadata": {
            "needs_background": "light"
          }
        },
        {
          "output_type": "execute_result",
          "data": {
            "text/plain": [
              "30     34\n",
              "25     34\n",
              "42     35\n",
              "26     36\n",
              "65     36\n",
              "36     38\n",
              "31     38\n",
              "50     40\n",
              "16     40\n",
              "40     40\n",
              "14     41\n",
              "53     42\n",
              "24     43\n",
              "34     43\n",
              "64     43\n",
              "57     44\n",
              "13     44\n",
              "28     44\n",
              "18     45\n",
              "51     45\n",
              "27     46\n",
              "32     46\n",
              "11     46\n",
              "21     46\n",
              "45     47\n",
              "41     47\n",
              "17     48\n",
              "55     48\n",
              "38     49\n",
              "62     49\n",
              "15     49\n",
              "54     50\n",
              "59     50\n",
              "29     51\n",
              "58     51\n",
              "33     51\n",
              "22     52\n",
              "47     52\n",
              "49     52\n",
              "19     53\n",
              "39     53\n",
              "61     53\n",
              "60     53\n",
              "63     53\n",
              "35     54\n",
              "56     54\n",
              "23     55\n",
              "44     56\n",
              "43     56\n",
              "37     58\n",
              "20     58\n",
              "46     61\n",
              "48     61\n",
              "52     62\n",
              "12     72\n",
              "8     801\n",
              "5     810\n",
              "1     824\n",
              "4     825\n",
              "7     840\n",
              "3     840\n",
              "9     845\n",
              "6     849\n",
              "2     858\n",
              "10    860\n",
              "Name: Discount_offered, dtype: int64"
            ]
          },
          "metadata": {},
          "execution_count": 55
        }
      ]
    },
    {
      "cell_type": "markdown",
      "source": [
        "The most common discount offered was 10%. From 0-10% was the most common amount of discount offered. After a 10% discount the counts for other discounts are very similar, all in the range of 0-72; while the 10% discount range totals in the 800's. "
      ],
      "metadata": {
        "id": "aSQp9b2Tql6i"
      }
    },
    {
      "cell_type": "markdown",
      "source": [
        "##Weight in Grams"
      ],
      "metadata": {
        "id": "uPROdxFWzGqI"
      }
    },
    {
      "cell_type": "code",
      "source": [
        "ax = sns.histplot(x = 'Weight_in_gms', \n",
        "              data = df, \n",
        "              color = 'maroon')\n",
        "ax.set(xlabel='Weight in Grams', ylabel='Count of Weight in Grams')\n",
        "plt.show()\n",
        "\n"
      ],
      "metadata": {
        "colab": {
          "base_uri": "https://localhost:8080/",
          "height": 279
        },
        "id": "1bEOsuFxzIW3",
        "outputId": "d62c38f6-e530-4053-81bf-4ab6e3f30ac0"
      },
      "execution_count": 62,
      "outputs": [
        {
          "output_type": "display_data",
          "data": {
            "text/plain": [
              "<Figure size 432x288 with 1 Axes>"
            ],
            "image/png": "[encoded data removed]"
          },
          "metadata": {
            "needs_background": "light"
          }
        }
      ]
    },
    {
      "cell_type": "markdown",
      "source": [
        "There are two distinct groupings of weight in grams of the shipments. Between 4k grams and 6k grams and then another group of smallers shipments, around 1k to 2k. "
      ],
      "metadata": {
        "id": "OKfzHP55zhN6"
      }
    },
    {
      "cell_type": "markdown",
      "source": [
        "## Reached.on.Time_Y.N"
      ],
      "metadata": {
        "id": "pin1LWg40NL5"
      }
    },
    {
      "cell_type": "code",
      "source": [
        "ax = sns.histplot(x = 'Reached.on.Time_Y.N', \n",
        "              data = df, \n",
        "              color = 'navy')\n",
        "ax.set(xlabel='Reached on time', ylabel='Count reacahed on time')\n",
        "plt.show()\n",
        "df['Reached.on.Time_Y.N'].value_counts().sort_values()"
      ],
      "metadata": {
        "colab": {
          "base_uri": "https://localhost:8080/",
          "height": 333
        },
        "id": "EiqP3gDu0QiZ",
        "outputId": "d2bd97f5-3150-424a-bb07-b8aca687c24d"
      },
      "execution_count": 64,
      "outputs": [
        {
          "output_type": "display_data",
          "data": {
            "text/plain": [
              "<Figure size 432x288 with 1 Axes>"
            ],
            "image/png": "[encoded data removed]"
          },
          "metadata": {
            "needs_background": "light"
          }
        },
        {
          "output_type": "execute_result",
          "data": {
            "text/plain": [
              "0    4436\n",
              "1    6563\n",
              "Name: Reached.on.Time_Y.N, dtype: int64"
            ]
          },
          "metadata": {},
          "execution_count": 64
        }
      ]
    },
    {
      "cell_type": "markdown",
      "source": [
        "More often than not, the shipments reached their destination on time. However, 40% of the time they did not reach their destination on time. "
      ],
      "metadata": {
        "id": "EpGVI0p90q1k"
      }
    }
  ]
}