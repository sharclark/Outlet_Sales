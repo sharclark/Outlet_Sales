{
  "nbformat": 4,
  "nbformat_minor": 0,
  "metadata": {
    "colab": {
      "provenance": [],
      "authorship_tag": "ABX9TyNXeahc/eobDsRneAnc1XJl",
      "include_colab_link": true
    },
    "kernelspec": {
      "name": "python3",
      "display_name": "Python 3"
    },
    "language_info": {
      "name": "python"
    }
  },
  "cells": [
    {
      "cell_type": "markdown",
      "metadata": {
        "id": "view-in-github",
        "colab_type": "text"
      },
      "source": [
        "<a href=\"https://colab.research.google.com/github/sharclark/Project1_Dojo/blob/main/Project_1_Part_1_Shar_Clark.ipynb\" target=\"_parent\"><img src=\"https://colab.research.google.com/assets/colab-badge.svg\" alt=\"Open In Colab\"/></a>"
      ]
    },
    {
      "cell_type": "markdown",
      "source": [
        "#Project 1 - Part 1\n",
        "Shar Clark\n",
        "\n",
        "## Loading Data\n",
        "\n",
        "##Data Cleaning\n",
        "\n",
        "##Exploratory Visuals\n",
        "\n",
        "##Explanatory Visuals"
      ],
      "metadata": {
        "id": "oDQtSbV8x8c4"
      }
    }
  ]
}